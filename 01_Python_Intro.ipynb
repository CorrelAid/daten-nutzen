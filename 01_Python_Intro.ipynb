{
 "cells": [
  {
   "cell_type": "markdown",
   "id": "59fdb200",
   "metadata": {},
   "source": [
    "# Erste Schritte mit Python"
   ]
  },
  {
   "cell_type": "markdown",
   "id": "337055c0",
   "metadata": {},
   "source": [
    "## Zuweisungen & Variablen"
   ]
  },
  {
   "cell_type": "markdown",
   "id": "c59500a0",
   "metadata": {},
   "source": [
    "Herzlich Willkommen in eurem ersten Jupyter Notebook! Ein Jupyter Notebook ist eine interaktive Entwicklungsumgebung, die aus verschiedenen Zellen besteht.\n",
    "\n",
    "Diese Zellen können unterschiedliche Typen habe. Diese Zelle zum Beispiel enthält Text und Bilder, man nennt sie \"Markdown\" Zelle. Zellen wie die nächste sind \"Code\" Zellen - dort könnt ihr Python Code hinein schreiben.\n",
    "\n",
    "Damit der Code in den Code-Zellen auch ausgeführt wird, könnt ihr einfach den kleinen Play-Button links neben der Zelle drücken. Dann wird euch unterhalb der Code Zelle der Output / das Ergebnis eures Codes angezeigt.\n",
    "\n",
    "Wir fangen jetzt mit dem ersten Beispiel aus dem Modul an: einer Zuweisung. Wir erstellen jetzt die Variable \"name\" und weisen ihr den Wert \"Anna\" zu. Drücke auf den Play-Button links neben der nächsten Zelle um sie auszufüren."
   ]
  },
  {
   "cell_type": "code",
   "execution_count": null,
   "id": "3069deb8",
   "metadata": {},
   "outputs": [],
   "source": [
    "name='Tina'\n",
    "print(name)"
   ]
  },
  {
   "cell_type": "markdown",
   "id": "3ac3d4a2",
   "metadata": {},
   "source": [
    "Wunderbar, jetzt wird dir der Wert der Variablen angezeigt! Jetzt kannst du oben in der Zelle mit der Zuweisung stat Anna deinen eigenen Namen eintragen und die Zelle nochmals ausführen!"
   ]
  },
  {
   "cell_type": "markdown",
   "id": "44f9f03b",
   "metadata": {},
   "source": [
    "Herzlichen Glückwunsch, du hast deine erste eigenen Zuweisung in Python programmiert &#x1F4AA;\t"
   ]
  },
  {
   "cell_type": "markdown",
   "id": "a9c74a5e",
   "metadata": {},
   "source": [
    "## Listen in Python"
   ]
  },
  {
   "cell_type": "markdown",
   "id": "a31fc5d1",
   "metadata": {},
   "source": [
    "Machen wir jetzt weiter mit dem Thema Listen. Wir erstellen wie auf den Slides eine Liste mit den Zahlen 5, 8, 6 und 9 und lassen uns das erste Element der Liste ausgeben:"
   ]
  },
  {
   "cell_type": "code",
   "execution_count": null,
   "id": "e5b92987",
   "metadata": {},
   "outputs": [],
   "source": [
    "numbers = [5, 8, 6, 9]\n",
    "first_element = numbers[0]\n",
    "print(first_element)"
   ]
  },
  {
   "cell_type": "markdown",
   "id": "410c6dcf",
   "metadata": {},
   "source": [
    "Was meinst du: wie kannst du dir das zweite Element der Liste ausgeben lassen? Ändere einfach den Code in der vorherigen Zelle und führe sie erneut aus!"
   ]
  },
  {
   "cell_type": "markdown",
   "id": "4709d1f8",
   "metadata": {},
   "source": [
    "## Funktionen in Python"
   ]
  },
  {
   "cell_type": "markdown",
   "id": "2f955765",
   "metadata": {},
   "source": [
    "Funktionen sind eines der Herzstücke von Programmiersprachen. Mit Funktionen machen wir Code-Teile ohne kopieren wiederverwendbar und verallgemeinerbar! Es gibt vordefinierte Funktionen in Python, wie zum Beispiel die Funktion \"sum\", die die Summe der gegebenen Werte berechnet. Du kannst dir jedoch auch deine eigenen Funktionen schreiben!\n",
    "\n",
    "Schauen wir uns wieder das Beispiel aus den Folien an, die \"sum\" Funktion. Diese Funktion erwartet in den Klammern () mindestens einen Eingabewert und berechnet dann die Summe der gegebenen Werte:"
   ]
  },
  {
   "cell_type": "code",
   "execution_count": null,
   "id": "84a2034a",
   "metadata": {},
   "outputs": [],
   "source": [
    "numbers = [5, 8, 6, 9]\n",
    "total_sum = sum(numbers)\n",
    "print(total_sum)"
   ]
  },
  {
   "cell_type": "markdown",
   "id": "7f7b2493",
   "metadata": {},
   "source": [
    "Versuche selber, in der nächsten Zelle die Summe der gebenen Liste zu berechnen:"
   ]
  },
  {
   "cell_type": "code",
   "execution_count": null,
   "id": "8b176a9c",
   "metadata": {},
   "outputs": [],
   "source": [
    "example_numbers = [1, 2, 3, 4, 5, 6, 7, 8, 9, 10]\n",
    "\n",
    "#  Schreibe in die nächste Zeile statt der 0 deinen eigenen Code!\n",
    "total_sum_example = 0\n",
    "print(total_sum_example)"
   ]
  },
  {
   "cell_type": "markdown",
   "id": "849cdd91",
   "metadata": {},
   "source": [
    "## Pakete in Python"
   ]
  },
  {
   "cell_type": "markdown",
   "id": "d393b4c9",
   "metadata": {},
   "source": [
    "Falls du nicht nur die Standard-Funktionen wie die Summe verwenden möchtest, bietet Python dir viele weiter Funktionen, die in sogenannten Bibliotheken (en: libraries) verpackt sind. Eine sehr bekannte solcher Bibliotheken ist \"pandas\" für die Verarbeitung tabellarischer Daten. Lass uns jetzt diese Bibliothek laden: wir importieren die Bibliothek und geben ihr den Kurz-Namen pd:"
   ]
  },
  {
   "cell_type": "code",
   "execution_count": null,
   "id": "4bfb69f1",
   "metadata": {},
   "outputs": [],
   "source": [
    "import pandas as pd"
   ]
  },
  {
   "cell_type": "markdown",
   "id": "0f3d28a5",
   "metadata": {},
   "source": [
    "Jetzt können wir mit einem . auf die Funktionen der Bibliothek pandas zugreifen, zum Beispiel um eine Excel Tabelle einzulesen:"
   ]
  },
  {
   "cell_type": "code",
   "execution_count": null,
   "id": "f47425bf",
   "metadata": {},
   "outputs": [],
   "source": [
    "event_table = pd.read_excel('data/06_Veranstaltungen-Beispieldatensatz.xlsx')\n",
    "event_table"
   ]
  },
  {
   "cell_type": "markdown",
   "id": "7cd8bf0d",
   "metadata": {},
   "source": [
    "Doch was bringt es uns, diese Tabelle jetzt in einer Variablen zu speichern, statt sie direkt in Excel zu bearbeiten? Im folgenden geben wir euch schonmal einen kleinen Einblick in die vielfältigen Funktionalitäten der pandas Bibliothek. \n",
    "\n",
    "Und das Beste? Falls sich die Ursprungsdatei ändert könnt ihr alle Zellen dieses Notebooks einfach nochmal ausführen und bekommt direkt die aktualisierten Ergebnisse, ohne eine Formel anpassen zu müssen!\n",
    "\n",
    "Von dieser Tabelle, die wir in der Variablen \"event_table\" abspeichern, können wir uns mit der Funktion \"describe\" einige deskriptive Statistiken der numerischen Spalten ausgeben lassen:"
   ]
  },
  {
   "cell_type": "code",
   "execution_count": null,
   "id": "05758ece",
   "metadata": {},
   "outputs": [],
   "source": [
    "event_table.describe()"
   ]
  },
  {
   "cell_type": "markdown",
   "id": "374c6d49",
   "metadata": {},
   "source": [
    "Oder wir können zählen, wie viele Veranstaltungen pro Veranstaltungstyp ausgeführt wurden:\n"
   ]
  },
  {
   "cell_type": "code",
   "execution_count": null,
   "id": "51286c81",
   "metadata": {},
   "outputs": [],
   "source": [
    "event_table['Veranstaltungstyp'].value_counts()"
   ]
  },
  {
   "cell_type": "markdown",
   "id": "a56097fe",
   "metadata": {},
   "source": [
    "Oder wir können uns ein Histogramm der Workshop-Bewertungen erstellen:"
   ]
  },
  {
   "cell_type": "code",
   "execution_count": null,
   "id": "e53db780",
   "metadata": {},
   "outputs": [],
   "source": [
    "event_table['Bewertung (0-10)'].plot(kind='hist', bins=30)"
   ]
  },
  {
   "cell_type": "code",
   "execution_count": null,
   "id": "baaed9a8",
   "metadata": {},
   "outputs": [],
   "source": []
  }
 ],
 "metadata": {
  "kernelspec": {
   "display_name": ".venv",
   "language": "python",
   "name": "python3"
  },
  "language_info": {
   "codemirror_mode": {
    "name": "ipython",
    "version": 3
   },
   "file_extension": ".py",
   "mimetype": "text/x-python",
   "name": "python",
   "nbconvert_exporter": "python",
   "pygments_lexer": "ipython3",
   "version": "3.13.0"
  }
 },
 "nbformat": 4,
 "nbformat_minor": 5
}
