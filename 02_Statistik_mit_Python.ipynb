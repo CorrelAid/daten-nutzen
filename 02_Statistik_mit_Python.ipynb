{
  "cells": [
    {
      "cell_type": "markdown",
      "metadata": {
        "id": "tDzoRu4zXulO"
      },
      "source": [
        "# **Statistik mit Python**\n",
        "\n",
        "Herzlich willkommen, liebe Datenanalyse-Begeisterte! 🎉\n",
        "Im letzten Modul habt ihr bereits das Jupyter Notebook kennengelernt.\n",
        "In den Code-Zellen könnt ihr, wie ihr schon wisst, Python-Code ausführen, bearbeiten und anpassen."
      ]
    },
    {
      "cell_type": "markdown",
      "metadata": {
        "id": "HnHYx8USLJ-b"
      },
      "source": [
        "**Schritt 1: Bibliotheken importieren**\n",
        "\n",
        "Wir beginnen damit, die wichtigsten Bibliotheken zu laden.\n",
        "Allen voran pandas – der ultimative Alleskönner für Datenanalyse in Python.\n",
        "Mit pandas könnt ihr tabellarische Daten einlesen, bereinigen und statistisch auswerten.\n",
        "Dafür importieren wir diese Bibliothek und geben ihr den Kurz-Namen pd:\n",
        "\n"
      ]
    },
    {
      "cell_type": "code",
      "execution_count": null,
      "metadata": {
        "id": "lWor3gVfDzuN"
      },
      "outputs": [],
      "source": [
        "import pandas as pd"
      ]
    },
    {
      "cell_type": "markdown",
      "metadata": {
        "id": "YnteQfSUMDqc"
      },
      "source": [
        "**Schritt 2: Datendatz einlesen**\n",
        "\n",
        "Nun lesen wir mit der Funktion .read_excel() aus der pandas Bibliothek unseren Excel-Datensatz ein und speichern diesen unter dem Namen sauberwald_df ab. 'df' steht dabei für 'DataFrame' : das ist der Name der Tabellenobjekte, mit denen die pandas Bibliothek arbeitet."
      ]
    },
    {
      "cell_type": "code",
      "execution_count": null,
      "metadata": {
        "id": "CIY1RgyoTiB0"
      },
      "outputs": [],
      "source": [
        "sauberwald_df = pd.read_excel(\"data/08_SaubereWaelder_Datensatz.xlsx\")"
      ]
    },
    {
      "cell_type": "markdown",
      "metadata": {
        "id": "G8Y-2SdbqIYM"
      },
      "source": [
        "Jetzt wollen wir uns anschauen, wie dieses DataFrame Objekt aussieht. Dafür können wir die 'print' Funktion nutzen, oder wir können einfach den Namen der Variable ohne eine Zuweisung in eine Code-Zelle schreiben:"
      ]
    },
    {
      "cell_type": "code",
      "execution_count": null,
      "metadata": {
        "colab": {
          "base_uri": "https://localhost:8080/",
          "height": 1000
        },
        "id": "Ndd5YL85ptLR",
        "outputId": "df58a47f-3629-4cc1-c6a2-8e16b3bd6e7a"
      },
      "outputs": [],
      "source": [
        "sauberwald_df"
      ]
    },
    {
      "cell_type": "markdown",
      "metadata": {
        "id": "CREN29oIqqN9"
      },
      "source": [
        "Wie ihr seht, habt ihr jetzt in der Variable 'sauberwald_df' ein Tabellenobjekt gespeichert. Die Tabelle hat die Spalten Teilnehmer, Wissen, Spende, Alter und Geschlecht und 35 Zeilen (nummeriert von 0 bis 34). Wenn ihr nur eine der Spalten ausgeben lassen wollt, könnt ihr das mit eckigen Klammern und dem Namen der Spalte in Anführungszeichen tun."
      ]
    },
    {
      "cell_type": "code",
      "execution_count": null,
      "metadata": {
        "colab": {
          "base_uri": "https://localhost:8080/",
          "height": 1000
        },
        "id": "V0CYp7gcrTQy",
        "outputId": "9cd49454-c97d-4fd4-b8e8-e28828091dcd"
      },
      "outputs": [],
      "source": [
        "# Anzeige der Spalte \"Geschlecht\"\n",
        "sauberwald_df[\"Geschlecht\"]"
      ]
    },
    {
      "cell_type": "markdown",
      "metadata": {
        "id": "EJAv0b7iYnkI"
      },
      "source": [
        "**Schritt 3: Lagemaße berechnen**\n",
        "\n",
        "Nun könnt ihr euch austoben und die Code-Schnipseln aus den Folien hier ausprobieren!\n",
        "\n",
        "So berechnet ihr den Mittelwert der Variable \"Wissen\":"
      ]
    },
    {
      "cell_type": "code",
      "execution_count": null,
      "metadata": {
        "colab": {
          "base_uri": "https://localhost:8080/"
        },
        "id": "yJdUAMSrTxdp",
        "outputId": "8ef26144-7356-481f-e490-22269d773897"
      },
      "outputs": [],
      "source": [
        "# Mittelwert Wissen:\n",
        "sauberwald_df[\"Wissen\"].mean()"
      ]
    },
    {
      "cell_type": "markdown",
      "metadata": {
        "id": "WTFLJ8CwYNa5"
      },
      "source": [
        "👉 Als Ausgabe bekommt ihr hier np.float64(5.285714285714286).\n",
        "Das ist kein Fehler, sondern nur die interne Zahlendarstellung von Python: Sie zeigt den Datentyp des Rückgabewerts \"np.float64\" und den eigentlichen Mittelwert \"(5.285714285714286)\" in Klammern  an.\n",
        "\n",
        "Für eine schönere und besser lesbare Ausgabe könnt ihr den Rückgabewert der Funktion in einer Variable abspeichern und einfach mit print() ausgeben lassen:"
      ]
    },
    {
      "cell_type": "code",
      "execution_count": null,
      "metadata": {
        "colab": {
          "base_uri": "https://localhost:8080/"
        },
        "id": "PL5nrTtvYHC4",
        "outputId": "7e43e937-d3e7-4e2e-84e9-124b2babc1d4"
      },
      "outputs": [],
      "source": [
        "mw_wissen = sauberwald_df[\"Wissen\"].mean()\n",
        "print(mw_wissen)"
      ]
    },
    {
      "cell_type": "markdown",
      "metadata": {
        "id": "DPgDoYKyoB1B"
      },
      "source": [
        "Für noch bessere Lesbarkeit könnt ihr optional die Ausgabe auf zwei Nachkommastellen mit round() abrunden:"
      ]
    },
    {
      "cell_type": "code",
      "execution_count": null,
      "metadata": {
        "colab": {
          "base_uri": "https://localhost:8080/"
        },
        "id": "NoPz3WjXm9ww",
        "outputId": "e97cbbab-f7cd-4052-9add-7c2af2e88b55"
      },
      "outputs": [],
      "source": [
        "print(round(mw_wissen, 2))"
      ]
    },
    {
      "cell_type": "markdown",
      "metadata": {
        "id": "XHL8AXA7rLum"
      },
      "source": [
        "So berechnet ihr den Median und den Modus der Variable \"Wissen\":"
      ]
    },
    {
      "cell_type": "code",
      "execution_count": null,
      "metadata": {
        "colab": {
          "base_uri": "https://localhost:8080/"
        },
        "id": "ECRkFjpvb6u7",
        "outputId": "b8c1f697-279f-4e8a-de80-0859e11b631e"
      },
      "outputs": [],
      "source": [
        "# Median Wissen:\n",
        "sauberwald_df[\"Wissen\"].median()"
      ]
    },
    {
      "cell_type": "code",
      "execution_count": null,
      "metadata": {
        "colab": {
          "base_uri": "https://localhost:8080/",
          "height": 115
        },
        "id": "2yWFzhEebm1T",
        "outputId": "1a74f792-f75b-4524-c26f-6e97d998e4ac"
      },
      "outputs": [],
      "source": [
        "# Mode Wissen\n",
        "sauberwald_df[\"Wissen\"].mode()"
      ]
    },
    {
      "cell_type": "markdown",
      "metadata": {
        "id": "vtI5tbiVcdcn"
      },
      "source": [
        "👉 Das ist eine kleine Tabelle mit einem Index links (0) und dem Wert des Modus rechts (4). Wenn es mehrere Modi gibt (wenn zwei Werte gleich häufig vorkommen), gibt mode() mehrere Werte zurück."
      ]
    },
    {
      "cell_type": "markdown",
      "metadata": {
        "id": "vqw_5XE8WP_S"
      },
      "source": [
        "💪 Jetzt seid ihr an der Reihe! 💪\n",
        "\n",
        "\n",
        "*   Berechnet Mittelwert, Median und Modus für die Variable „Spende“ und/oder „Alter“!\n",
        "\n",
        "*   Welches Geschlecht kommt im Datensatz am häufigsten vor?"
      ]
    },
    {
      "cell_type": "code",
      "execution_count": null,
      "metadata": {
        "id": "UtSAJquFgbiP"
      },
      "outputs": [],
      "source": [
        "# Mittelwert:\n"
      ]
    },
    {
      "cell_type": "code",
      "execution_count": null,
      "metadata": {
        "id": "fnBnufRWgbXP"
      },
      "outputs": [],
      "source": [
        "# Median:\n"
      ]
    },
    {
      "cell_type": "code",
      "execution_count": null,
      "metadata": {
        "id": "-SWNw_GfUnNi"
      },
      "outputs": [],
      "source": [
        "# Modus:\n"
      ]
    },
    {
      "cell_type": "code",
      "execution_count": null,
      "metadata": {
        "id": "lcoF8ikfdMun"
      },
      "outputs": [],
      "source": [
        "# Das häufigste Geschlecht:\n"
      ]
    },
    {
      "cell_type": "markdown",
      "metadata": {
        "id": "CCQ3Z-e2Y8M1"
      },
      "source": [
        "**Schritt 4: Streuungsmaße berechnen**"
      ]
    },
    {
      "cell_type": "markdown",
      "metadata": {
        "id": "PEgSt5Fydf6E"
      },
      "source": [
        "Varianz der Variable \"Wissen\":"
      ]
    },
    {
      "cell_type": "code",
      "execution_count": null,
      "metadata": {
        "colab": {
          "base_uri": "https://localhost:8080/"
        },
        "id": "PS_7-yzua38J",
        "outputId": "a474113a-1a93-43de-8d6c-d076dba4a0b7"
      },
      "outputs": [],
      "source": [
        "sauberwald_df[\"Wissen\"].var()"
      ]
    },
    {
      "cell_type": "markdown",
      "metadata": {
        "id": "KRv5N7KsdnSA"
      },
      "source": [
        "Standardabweichung der Variable \"Wissen\":"
      ]
    },
    {
      "cell_type": "code",
      "execution_count": null,
      "metadata": {
        "colab": {
          "base_uri": "https://localhost:8080/"
        },
        "id": "o-FHSFtadVhL",
        "outputId": "869f49f7-b27c-4b7e-f1f6-54aed3d417ae"
      },
      "outputs": [],
      "source": [
        "sauberwald_df[\"Wissen\"].std() # std steht für Standard Deviation (en für Standardabweichung)"
      ]
    },
    {
      "cell_type": "markdown",
      "metadata": {
        "id": "yyw54tLXbQPw"
      },
      "source": [
        "👉 Das bedeutet also, dass das Wissen über die Folgen der Waldverschmutzung sich im Durchschnitt um +-2.45 Punkte vom Mittelwert (≈ 5 Punkte) abweicht.\n",
        "\n",
        "Diese Verteilung kann man nun durch ein Histogramm veranschaulichen:"
      ]
    },
    {
      "cell_type": "code",
      "execution_count": null,
      "metadata": {
        "colab": {
          "base_uri": "https://localhost:8080/",
          "height": 448
        },
        "id": "PvJ8_2ivbYo1",
        "outputId": "640bdbf6-2246-42e8-e8cb-3d744924b6de"
      },
      "outputs": [],
      "source": [
        "sauberwald_df[\"Wissen\"].plot(kind='hist')\n"
      ]
    },
    {
      "cell_type": "markdown",
      "metadata": {
        "id": "qimwZV1PbiVw"
      },
      "source": [
        "Oder mit einem Boxplot grafisch darstellen:"
      ]
    },
    {
      "cell_type": "code",
      "execution_count": null,
      "metadata": {
        "colab": {
          "base_uri": "https://localhost:8080/",
          "height": 448
        },
        "id": "TztS-wN5bnZd",
        "outputId": "271abc70-1459-4c6e-8258-2d28138ca13a"
      },
      "outputs": [],
      "source": [
        "sauberwald_df[\"Wissen\"].plot(kind=\"box\")"
      ]
    },
    {
      "cell_type": "markdown",
      "metadata": {
        "id": "jvzWT0v4t3Zk"
      },
      "source": [
        "Hier seht ihr, dass es keine Ausreißer gibt (keine Punkte außerhalb der Boxplot-Whiskers), und dass der Median bei 5.0 liegt."
      ]
    },
    {
      "cell_type": "markdown",
      "metadata": {
        "id": "Qmus9ardcTWn"
      },
      "source": [
        "💪 Jetzt seid ihr an der Reihe! 💪\n",
        "\n",
        "\n",
        "*   Wie groß sind Varianz und Standardabweichung für „Alter“?\n",
        "\n",
        "*   Wie sieht die Verteilung des Alters der Teilnehmenden aus? Erstellt ein Histogramm oder Boxplot: Ist die Variable „Alter“ normalverteilt? Gibt es Ausreißer?"
      ]
    },
    {
      "cell_type": "code",
      "execution_count": null,
      "metadata": {
        "id": "WxA8LadXgN8D"
      },
      "outputs": [],
      "source": [
        "# Varianz Alter\n"
      ]
    },
    {
      "cell_type": "code",
      "execution_count": null,
      "metadata": {
        "id": "gbXLoA5egOJB"
      },
      "outputs": [],
      "source": [
        "# Standardabweichung Alter\n"
      ]
    },
    {
      "cell_type": "code",
      "execution_count": null,
      "metadata": {
        "id": "zXkSQSI1gOQy"
      },
      "outputs": [],
      "source": [
        "# Histogramm oder Boxplot Spende\n"
      ]
    },
    {
      "cell_type": "markdown",
      "metadata": {
        "id": "PcgxEgvjSo7u"
      },
      "source": [
        "Noch eine Möglichkeit: Mit describe()-Funktion können wir einige deskriptive Statistiken wie Mittelwert (mean), Standardabweichung (std) sowie maximalen und minimalen Wert der Variable für alle numerischen Variablen uns auf einen Blick ausgeben lassen."
      ]
    },
    {
      "cell_type": "code",
      "execution_count": null,
      "metadata": {
        "colab": {
          "base_uri": "https://localhost:8080/",
          "height": 300
        },
        "id": "A53vMJllTDI5",
        "outputId": "cfd15523-9145-4836-a3c2-987aa5d6fecb"
      },
      "outputs": [],
      "source": [
        "sauberwald_df.describe()"
      ]
    },
    {
      "cell_type": "markdown",
      "metadata": {
        "id": "4fUQBDDvd6RU"
      },
      "source": [
        "**Schritt 5: Korrellation berechnen**\n",
        "\n",
        "Nun berechen wir, wie in den Folien, die Pearson-Korrelation *r* zwischen dem Wissen über die Folgen der Waldverschmutzung und dem Alter. Wie würdet ihr den Korrelationskoeffizient (die Richtung und die Stärke) hier interpretieren?"
      ]
    },
    {
      "cell_type": "code",
      "execution_count": null,
      "metadata": {
        "colab": {
          "base_uri": "https://localhost:8080/"
        },
        "id": "l_A9bwpzdqNE",
        "outputId": "36e6c19d-7850-472f-8a5c-5536292532f1"
      },
      "outputs": [],
      "source": [
        "#Korrelation zwischen Alter und Wissen\n",
        "print(sauberwald_df[\"Alter\"].corr(sauberwald_df[\"Wissen\"]))"
      ]
    },
    {
      "cell_type": "markdown",
      "metadata": {
        "id": "dHODWuD5he39"
      },
      "source": [
        "Mit so einem Streudiagramm könnt ihr übrigens veranschaulichen, wie zwei numerische Variablen miteinander zusammenhängen:"
      ]
    },
    {
      "cell_type": "code",
      "execution_count": null,
      "metadata": {
        "colab": {
          "base_uri": "https://localhost:8080/",
          "height": 467
        },
        "id": "-Cv9Xtvhgt8g",
        "outputId": "bcd35482-1b40-4604-a03b-7a3fa8a987c0"
      },
      "outputs": [],
      "source": [
        "\n",
        "sauberwald_df.plot.scatter(x=\"Alter\", y=\"Wissen\")\n"
      ]
    },
    {
      "cell_type": "markdown",
      "metadata": {
        "id": "-bMdViMLd69T"
      },
      "source": [
        "💪 Jetzt seid ihr an der Reihe! 💪\n",
        "\n",
        "\n",
        "*   Berechnet den Pearson-Korrelationskoeffizienten (r) für die Variablen „Wissen“ und „Spende“ im Datensatz.\n",
        "\n",
        "*   Interpretiert die Stärke und Richtung der Korrelation (z. B. mit einem Satz: „Je mehr …, desto …“).\n",
        "\n",
        "*   Kann man somit sagen, dass mehr Wissen zu höheren Spenden führt?"
      ]
    },
    {
      "cell_type": "code",
      "execution_count": null,
      "metadata": {
        "id": "rjEzl8oifthJ"
      },
      "outputs": [],
      "source": [
        "# Korrelation zwischen Wissen und Spendehöhe\n"
      ]
    }
  ],
  "metadata": {
    "colab": {
      "provenance": []
    },
    "kernelspec": {
      "display_name": ".venv",
      "language": "python",
      "name": "python3"
    },
    "language_info": {
      "codemirror_mode": {
        "name": "ipython",
        "version": 3
      },
      "file_extension": ".py",
      "mimetype": "text/x-python",
      "name": "python",
      "nbconvert_exporter": "python",
      "pygments_lexer": "ipython3",
      "version": "3.9.6"
    }
  },
  "nbformat": 4,
  "nbformat_minor": 0
}
