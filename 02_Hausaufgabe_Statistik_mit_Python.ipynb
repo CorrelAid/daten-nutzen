{
  "cells": [
    {
      "cell_type": "markdown",
      "id": "4d94a4a4",
      "metadata": {
        "id": "4d94a4a4"
      },
      "source": [
        "# Modul 8 Statistische Grundlagen und Tools: Hausaufgabe\n",
        "\n",
        "Dieses Notebook führt euch durch eine kleine Datenauswertung auf Basis des Beispieldatensatzes **08_Hausaufgabe-Beispieldatensatz-NGO-Spenden.xlsx**.  \n",
        "Die Aufgaben sind so gestaltet, dass sie in R, Python oder Excel lösbar sind. Hier bekommt ihr eine Python-Variante.\n"
      ]
    },
    {
      "cell_type": "markdown",
      "id": "6lg0ft-MoD46",
      "metadata": {
        "id": "6lg0ft-MoD46"
      },
      "source": [
        "Zunächst laden wir, wie immer, die benötigten Bibliotheken (in unserem Fall pandas) sowie die Daten selbst (als Excel-Datei) hoch."
      ]
    },
    {
      "cell_type": "code",
      "execution_count": null,
      "id": "6a36e8d1",
      "metadata": {
        "id": "6a36e8d1"
      },
      "outputs": [],
      "source": [
        "# Bibliothek importieren\n",
        "import pandas as pd\n",
        "\n",
        "# Datensatz importieren\n",
        "spenden_df = pd.read_excel(\"data/08_Hausaufgabe-Beispieldatensatz-NGO-Spenden.xlsx\")\n",
        "\n",
        "# Spalten des Datensatzes anzeigen\n",
        "spenden_df.head()\n"
      ]
    },
    {
      "cell_type": "markdown",
      "id": "zTmZEbzNuzZQ",
      "metadata": {
        "id": "zTmZEbzNuzZQ"
      },
      "source": [
        "❗ Wichtig❗\n",
        "Der Datensatz wurde im Code oben als spenden_df eingelesen.\n",
        "Ihr könnt in allen weiteren Auswertungen direkt mit diesem Namen weiterarbeiten.\n",
        "Falls ihr lieber einen anderen Namen verwenden möchtet (z. B. data, daten, ngo), könnt ihr das im Codeblock oben anpassen. Achtet nur darauf, den neuen Namen dann konsequent im gesamten Notebook zu verwenden."
      ]
    },
    {
      "cell_type": "markdown",
      "id": "63a25da1",
      "metadata": {
        "id": "63a25da1"
      },
      "source": [
        "\n",
        "## Variablenüberblick\n",
        "\n",
        "- `spendenbetrag_2023`, `spendenbetrag_2024` — Spenden in Euro (metrisch, tendenziell rechtsschief)  \n",
        "- `spendenhaeufigkeit` — Anzahl Spenden im Jahr (Zählvariable)  \n",
        "- `mitgliedschaft` — 0/1 (kein Mitglied / Mitglied)  \n",
        "- `kampagne` — „Umwelt“, „Bildung“, „Gesundheit“  \n",
        "- `alter` — Jahre  \n",
        "- `geschlecht` — „weiblich“, „männlich“, „divers“  \n",
        "- `einkommensklasse` — 1 bis 5 (größer = höheres Einkommen)  \n",
        "- `kommunikation` — „E-Mail“, „Social Media“, „Brief“  \n",
        "- `zufriedenheit` — 1 bis 5 (ordinal)\n"
      ]
    },
    {
      "cell_type": "markdown",
      "id": "KGJurS9NokOs",
      "metadata": {
        "id": "KGJurS9NokOs"
      },
      "source": [
        "Und so sieht der Gesamtdatensatz aus (falls ihr den Namen des Datensätzes verändert habt, schreibt hierhin den neuen Namen ein):"
      ]
    },
    {
      "cell_type": "code",
      "execution_count": null,
      "id": "h5Vh1JKRoj0M",
      "metadata": {
        "id": "h5Vh1JKRoj0M"
      },
      "outputs": [],
      "source": [
        "spenden_df"
      ]
    },
    {
      "cell_type": "markdown",
      "id": "ef0e855b",
      "metadata": {
        "id": "ef0e855b"
      },
      "source": [
        "\n",
        "---\n",
        "## Aufgabe a: Spendenentwicklung 2023 → 2024\n",
        "\n",
        "**Frage:** Wie entwickeln sich die Spenden im Vergleich zum Vorjahr?  \n",
        "> Vorgehen: Vergleiche **Mittelwert** und **Median** von `spendenbetrag_2023` und `spendenbetrag_2024`.\n",
        "\n",
        "**Aufgabe:**  \n",
        "1. Berechnet Mittelwert und Median für 2023 und 2024.  \n",
        "2. Wenn ihr möchtet, gebt die prozentuale Veränderung des Mittelwerts an.  \n",
        "3. Interpretiert kurz.\n",
        "\n",
        "👉 Tipp: Die berechneten Zahlen könnt ihr als Variablen abspeichern und euch mit einem print() Befehl ausgeben lassen."
      ]
    },
    {
      "cell_type": "code",
      "execution_count": null,
      "id": "0fbd019b",
      "metadata": {
        "id": "0fbd019b"
      },
      "outputs": [],
      "source": [
        "\n",
        "#Aufgabe a: Deine Lösung\n",
        "#Mittelwert spendenbetrag_2023\n",
        "mw_2023 =\n",
        "print(\"Mittelwert 2023:\", mw_2023)\n",
        "\n",
        "#Median spendenbetrag_2023\n",
        "\n",
        "#Mittelwert spendenbetrag_2024\n",
        "\n",
        "#Median spendenbetrag_2024\n",
        "\n",
        "\n",
        "#Veränderung vom Jahr 2023 zu Jahr 2024 in Prozent\n",
        "differenz = (mw_2024 - mw_2023) / mw_2023 * 100\n",
        "print(\"Veränderung Mittelwert 2024 vs. 2023:\", differenz, \" %\")\n"
      ]
    },
    {
      "cell_type": "markdown",
      "id": "1fea1e84",
      "metadata": {
        "id": "1fea1e84"
      },
      "source": [
        "\n",
        "---\n",
        "## Aufgabe b: Zusammenhänge (Korrelationen)\n",
        "\n",
        "**Frage:** Wie hängen die Spenden mit anderen Variablen zusammen?  \n",
        "> Vorschläge: `alter`, `einkommensklasse`, `mitgliedschaft`, `zufriedenheit`.  \n",
        "\n",
        "Interpretiert in 2–3 Sätzen.\n"
      ]
    },
    {
      "cell_type": "code",
      "execution_count": null,
      "id": "cba6a636",
      "metadata": {
        "id": "cba6a636"
      },
      "outputs": [],
      "source": [
        "\n",
        "#Aufgabe b: Deine Lösung\n",
        "\n"
      ]
    },
    {
      "cell_type": "markdown",
      "id": "95d54622",
      "metadata": {
        "id": "95d54622"
      },
      "source": [
        "\n",
        "---\n",
        "## Aufgabe c: Median/Modus statt Mittelwert\n",
        "\n",
        "**Frage:** Bei welchen Variablen ist Median/Modus sinnvoller als Mittelwert?  Warum?\n"
      ]
    },
    {
      "cell_type": "code",
      "execution_count": null,
      "id": "82ccea91",
      "metadata": {
        "id": "82ccea91"
      },
      "outputs": [],
      "source": [
        "\n",
        "# Aufgabe c: Deine Lösung\n",
        "\n"
      ]
    },
    {
      "cell_type": "markdown",
      "id": "0b376054",
      "metadata": {
        "id": "0b376054"
      },
      "source": [
        "\n",
        "---\n",
        "## Aufgabe d: Histogramm oder Boxplot\n",
        "\n",
        "**Frage:** Wählt eine Variable aus dem Datendatz, welche ihr als Histogramm oder Boxplot darstellt. Was kann man daraus ablesen und welche Schlüsse ziehen?\n",
        "> Vorschäge: `spendenbetrag_2023` oder `spendenbetrag_2024`\n"
      ]
    },
    {
      "cell_type": "code",
      "execution_count": null,
      "id": "144ebb76",
      "metadata": {
        "id": "144ebb76"
      },
      "outputs": [],
      "source": [
        "\n",
        "#Aufgabe d: Deine Lösung\n",
        "\n"
      ]
    },
    {
      "cell_type": "markdown",
      "id": "07e2387a",
      "metadata": {
        "id": "07e2387a"
      },
      "source": [
        "\n",
        "---\n",
        "## Aufgabe 5: Korrelation ≠ Kausalität\n",
        "\n",
        "**Dein Auftrag:** Formuliert ein Beispiel aus EURER Arbeit, wo eine beobachtete Korrelation leicht als Ursache-Wirkung missverstanden werden könnte.  \n",
        "- Welche dritte Variable oder welches Richtungsproblem wäre plausibel?\n"
      ]
    },
    {
      "cell_type": "markdown",
      "id": "9b2e0e7f",
      "metadata": {
        "id": "9b2e0e7f"
      },
      "source": [
        "\n",
        "### Notizfeld (Antwort hier eintragen)\n",
        "\n",
        "\n"
      ]
    }
  ],
  "metadata": {
    "colab": {
      "provenance": []
    },
    "kernelspec": {
      "display_name": ".venv",
      "language": "python",
      "name": "python3"
    },
    "language_info": {
      "codemirror_mode": {
        "name": "ipython",
        "version": 3
      },
      "file_extension": ".py",
      "mimetype": "text/x-python",
      "name": "python",
      "nbconvert_exporter": "python",
      "pygments_lexer": "ipython3",
      "version": "3.9.6"
    }
  },
  "nbformat": 4,
  "nbformat_minor": 5
}
